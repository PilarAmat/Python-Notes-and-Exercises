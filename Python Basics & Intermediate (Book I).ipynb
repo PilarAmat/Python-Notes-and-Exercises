{
 "cells": [
  {
   "cell_type": "markdown",
   "metadata": {},
   "source": [
    "# Python Notes Basic & Intermediate (Book I)"
   ]
  },
  {
   "cell_type": "markdown",
   "metadata": {},
   "source": [
    "_Those notes are from DataCamp and KSCHOOL clasess_"
   ]
  },
  {
   "cell_type": "markdown",
   "metadata": {},
   "source": [
    "## Introduction to Python for Data Science\n",
    "### Variable types\n",
    "\n",
    "-> **int**, or `integer`: a number without a fractional part. The value 200, is an example of an integer.\n",
    "\n",
    "-> **float**, or floating point: a number that has both an `integer and fractional part`, separated by a point. The value 9.99, is an example of a float.\n",
    "\n",
    "-> **str**, or string: a type to represent `text`. You can use single or double quotes to build a string.\n",
    "\n",
    "    // s.find(), will return the position in the string the first match\n",
    "    // s.replace(), to change characters\n",
    "    // s.split(), to divide the sting according to a pattern.\n",
    "    // s.index(), to find the lowest index.\n",
    "    // s.find(), idem.\n",
    "     \n",
    "-> **bool**, or boolean: a type to represent `logical values`. Can only be True or False (the capitalization is important!).\n",
    "\n",
    "-> **strongly typed**, means that python won't change the type, you have to do any change needed.\n",
    "\n",
    "\n",
    "### Guess the type\n",
    "\n",
    "To find out the type of a value or a variable that refers to that value, you can use the `type()` function. Suppose you've defined a variable z, but you forgot the type of this variable. \n",
    "\n"
   ]
  },
  {
   "cell_type": "code",
   "execution_count": 1,
   "metadata": {},
   "outputs": [
    {
     "data": {
      "text/plain": [
       "bool"
      ]
     },
     "execution_count": 1,
     "metadata": {},
     "output_type": "execute_result"
    }
   ],
   "source": [
    "#To determine the type of z:\n",
    "z= True\n",
    "type(z)"
   ]
  },
  {
   "cell_type": "code",
   "execution_count": 18,
   "metadata": {},
   "outputs": [
    {
     "ename": "TypeError",
     "evalue": "unsupported operand type(s) for +: 'int' and 'str'",
     "output_type": "error",
     "traceback": [
      "\u001b[0;31m---------------------------------------------------------------------------\u001b[0m",
      "\u001b[0;31mTypeError\u001b[0m                                 Traceback (most recent call last)",
      "\u001b[0;32m<ipython-input-18-1220e7486bb8>\u001b[0m in \u001b[0;36m<module>\u001b[0;34m()\u001b[0m\n\u001b[1;32m      1\u001b[0m \u001b[0;31m#strongly typed: a won't work since \"5\" is represented as an string\u001b[0m\u001b[0;34m\u001b[0m\u001b[0;34m\u001b[0m\u001b[0m\n\u001b[0;32m----> 2\u001b[0;31m \u001b[0ma\u001b[0m\u001b[0;34m=\u001b[0m \u001b[0;36m4\u001b[0m \u001b[0;34m+\u001b[0m \u001b[0;34m\"5\"\u001b[0m\u001b[0;34m\u001b[0m\u001b[0m\n\u001b[0m",
      "\u001b[0;31mTypeError\u001b[0m: unsupported operand type(s) for +: 'int' and 'str'"
     ]
    }
   ],
   "source": [
    "#strongly typed: a won't work since \"5\" is represented as an string\n",
    "a= 4 + \"5\"\n",
    "print(a)"
   ]
  },
  {
   "cell_type": "code",
   "execution_count": 21,
   "metadata": {},
   "outputs": [
    {
     "name": "stdout",
     "output_type": "stream",
     "text": [
      "9\n"
     ]
    }
   ],
   "source": [
    "a = 4 + int(\"5\")\n",
    "print (a)"
   ]
  },
  {
   "cell_type": "code",
   "execution_count": 81,
   "metadata": {},
   "outputs": [
    {
     "name": "stdout",
     "output_type": "stream",
     "text": [
      "['Pilar', ' you are very slow learning', ' python']\n",
      "7\n",
      "Silar, you are very slow learning, python\n",
      "Pilar, you are very slow learning, python\n"
     ]
    }
   ],
   "source": [
    "# Write a sentence that will be our string\n",
    "\n",
    "sentence = \"Pilar, you are very slow learning, python\"\n",
    "\n",
    "print(sentence.split(\",\"))\n",
    "print(sentence.find(\"y\"))\n",
    "print(sentence.replace(\"P\", \"S\"))\n",
    "print(sentence)"
   ]
  },
  {
   "cell_type": "markdown",
   "metadata": {},
   "source": [
    "### One Rule \n",
    "\n",
    "`Different types behave differently in Python`. A sum will operate like it is with integers but will be used as a concatenate formula for strings.\n",
    "\n",
    "Using the **+** operator to paste together two strings can be very useful in building custom messages.\n",
    "\n",
    "_print(\"I started day with \" + stocks + \" aples and now I have only \" + remaining + \". Great!\")_\n",
    "\n",
    "This will not work, though, as you cannot simply sum strings and floats.\n",
    "\n",
    "To fix the error, you'll need to explicitly convert the types of your variables. More specifically, you'll need str(), to convert a value into a string. str(stocks), for example, will convert the float stocks to a string.\n",
    "\n",
    "Similar functions such as int(), float() and bool() will help you convert Python values into any type."
   ]
  },
  {
   "cell_type": "code",
   "execution_count": 2,
   "metadata": {},
   "outputs": [
    {
     "name": "stdout",
     "output_type": "stream",
     "text": [
      "I started day with 100 apples and now have only 40. Great!\n"
     ]
    }
   ],
   "source": [
    "# Definition of stocks of apples and 10 sales of apple's baskets (6pax)\n",
    "stocks = 100\n",
    "sales = (10 *6)\n",
    "remaining = stocks - sales\n",
    "\n",
    "# Fix the printout\n",
    "print(\"I started day with \" + str(stocks) + \" apples and now have only \" + str(remaining) + \". Great!\")"
   ]
  },
  {
   "cell_type": "markdown",
   "metadata": {},
   "source": [
    "### List\n",
    "\n",
    "As opposed to int, bool etc., a list is a compound data type; you can group values together, use [ ] to hold the data inside. A list can also contain a mix of Python types including strings, floats, booleans, etc.\n",
    "\n",
    " <div class=\"alert alert-block alert-warning\">\n",
    " my_list = [el1, el2, el3]\n",
    "</div>"
   ]
  },
  {
   "cell_type": "code",
   "execution_count": 3,
   "metadata": {
    "scrolled": true
   },
   "outputs": [
    {
     "name": "stdout",
     "output_type": "stream",
     "text": [
      "[['ford focus', 71.43], ['alpharomeo julietta', 78.0], ['mercedes vitto', 40.0], ['fiat 500', 20.75], ['mazda zoom', 9.3]]\n",
      "<class 'list'>\n"
     ]
    }
   ],
   "source": [
    "# cars scores (in a competition)\n",
    "ford = 71.43\n",
    "alpharomeo = 78.0\n",
    "mercedes = 40.0\n",
    "fiat = 20.75\n",
    "mazda = 9.30\n",
    "\n",
    "# competition information as list of lists\n",
    "cars = [[\"ford focus\", ford],\n",
    "         [\"alpharomeo julietta\", alpharomeo],\n",
    "         [\"mercedes vitto\", mercedes],\n",
    "         [\"fiat 500\", fiat],\n",
    "         [\"mazda zoom\", mazda]]\n",
    "\n",
    "# Print out cars\n",
    "print(cars)\n",
    "\n",
    "# Print out the type of cars\n",
    "print(type(cars))"
   ]
  },
  {
   "cell_type": "markdown",
   "metadata": {},
   "source": [
    "### Subsetting Lists\n",
    "\n",
    "1. Lists starts on `index 0`\n",
    "2. You can choose a position from the left [3] or from the right [-3]\n",
    "3. The start index will be included, while the end index is not. _x[0:3] will be selecting first,second, third, but NOT forth element._\n",
    "<div class=\"alert alert-block alert-warning\">\n",
    "my_list[start:end]\n",
    "</div>\n",
    "4. Subsetting lists of lists. To subset lists of lists, you can use the same technique as before: square brackets. \n"
   ]
  },
  {
   "cell_type": "code",
   "execution_count": 4,
   "metadata": {},
   "outputs": [
    {
     "data": {
      "text/plain": [
       "9.3"
      ]
     },
     "execution_count": 4,
     "metadata": {},
     "output_type": "execute_result"
    }
   ],
   "source": [
    "#Lets select the second element of the last element. (Last element is mazda list, and second element (because first will be 0)is the punctuation of the mazda car)\n",
    "\n",
    "cars[-1][1]"
   ]
  },
  {
   "cell_type": "markdown",
   "metadata": {},
   "source": [
    "### List Manipulation\n",
    "\n",
    "Changing list elements"
   ]
  },
  {
   "cell_type": "markdown",
   "metadata": {},
   "source": [
    "**1.Select an element of the list and give another value.**"
   ]
  },
  {
   "cell_type": "code",
   "execution_count": 5,
   "metadata": {},
   "outputs": [
    {
     "name": "stdout",
     "output_type": "stream",
     "text": [
      "['ford focus', 71.43, 'alpharomeo julietta', 78.0, 'mercedes clase a', 40.0, 'fiat 500', 20.75, 'mazda zoom', 10.5]\n"
     ]
    }
   ],
   "source": [
    "# Create the areas list\n",
    "cars = [\"ford focus\", 71.43, \"alpharomeo julietta\", 78.0, \"mercedes vitto\", 40.0, \"fiat 500\", 20.75, \"mazda zoom\", 9.30]\n",
    "\n",
    "# Correct the mazda area from 9.30 to 10.30\n",
    "cars[9]=10.50\n",
    "\n",
    "# Change \"mercedes vitto\" to \"mercedes clase a\"\n",
    "cars[4]=\"mercedes clase a\"\n",
    "\n",
    "#Print cars\n",
    "print(cars)"
   ]
  },
  {
   "cell_type": "markdown",
   "metadata": {},
   "source": [
    "**2.Extend a list: you can use the + operator.**"
   ]
  },
  {
   "cell_type": "code",
   "execution_count": 6,
   "metadata": {},
   "outputs": [
    {
     "name": "stdout",
     "output_type": "stream",
     "text": [
      "['ford focus', 71.43, 'alpharomeo julietta', 78.0, 'mercedes clase a', 40.0, 'fiat 500', 20.75, 'mazda zoom', 10.5, 'seat panda', 14.6, 'renault clio', 47.8]\n"
     ]
    }
   ],
   "source": [
    "# Add seat panda (14.6) and a renault clio (47.8) data to cars, new list is cars_all\n",
    "cars_all=cars+[\"seat panda\",14.6]+[\"renault clio\", 47.8]\n",
    "\n",
    "#Print cars_all\n",
    "print(cars_all)"
   ]
  },
  {
   "cell_type": "markdown",
   "metadata": {},
   "source": [
    "**3.Delete list elements: with del(x) statement**. Pay attention here: as soon as you remove an element from a list, the indexes of the elements that come after the deleted element all change!\n",
    "<div class=\"alert alert-block alert-warning\">\n",
    "x = [\"a\", \"b\", \"c\", \"d\"]\n",
    "\n",
    "------> del(x[1])\n",
    "</div>"
   ]
  },
  {
   "cell_type": "code",
   "execution_count": 7,
   "metadata": {},
   "outputs": [
    {
     "name": "stdout",
     "output_type": "stream",
     "text": [
      "['ford focus', 71.43, 'alpharomeo julietta', 78.0, 'mercedes clase a', 40.0, 'fiat 500', 20.75, 'mazda zoom', 10.5, 'renault clio', 47.8]\n"
     ]
    }
   ],
   "source": [
    "# Delete seat panda (14.6)\n",
    "del(cars_all[-4:-2])\n",
    "\n",
    "# Print cars_all\n",
    "print(cars_all)"
   ]
  },
  {
   "cell_type": "markdown",
   "metadata": {},
   "source": [
    "**4.Copies of list** If you don't wont to write over the base list, remember to make copies by using the **list()** formula. "
   ]
  },
  {
   "cell_type": "code",
   "execution_count": 8,
   "metadata": {},
   "outputs": [
    {
     "name": "stdout",
     "output_type": "stream",
     "text": [
      "[71.43, 78.0, 40.0, 20.75, 10.5, 14.6, 47.8]\n"
     ]
    }
   ],
   "source": [
    "# Create list cars\n",
    "cars = [71.43, 78.0, 40.0, 20.75, 10.5, 14.6, 47.8]\n",
    "\n",
    "# Create areas_copy\n",
    "cars_copy = list(cars)\n",
    "\n",
    "# Change areas_copy\n",
    "cars_copy[0] = 5.0\n",
    "\n",
    "# Print areas\n",
    "print(cars)"
   ]
  },
  {
   "cell_type": "markdown",
   "metadata": {},
   "source": [
    "**5.Other Methods**"
   ]
  },
  {
   "cell_type": "code",
   "execution_count": null,
   "metadata": {},
   "outputs": [],
   "source": []
  },
  {
   "cell_type": "markdown",
   "metadata": {},
   "source": [
    "### Sets\n",
    "\n",
    "When applyint a set to a list, it returns only the unique values. They can be useful to get intersections of lists."
   ]
  },
  {
   "cell_type": "code",
   "execution_count": 49,
   "metadata": {},
   "outputs": [
    {
     "name": "stdout",
     "output_type": "stream",
     "text": [
      "{1, 2, 3, 5, 6}\n",
      "{8, 9, 5, 6}\n",
      "{5, 6}\n",
      "{1, 2, 3}\n"
     ]
    }
   ],
   "source": [
    "# Let's define a list of numbers \n",
    "\n",
    "l1= [1,2,3,1,2,3,5,6,6,5]\n",
    "\n",
    "# Transform it to a set to have unique values\n",
    "s1= set(l1)\n",
    "print(s1)\n",
    "\n",
    "# Having this other list lo (always smaller) we can play algebrand and also intersections\n",
    "l2 = [5,6,9,5,6,8,9]\n",
    "s2=set(l2)\n",
    "print(s2)\n",
    "\n",
    "print(s1.intersection(s2))\n",
    "\n",
    "print(s1- s2)\n"
   ]
  },
  {
   "cell_type": "markdown",
   "metadata": {},
   "source": [
    "### Functions. Use help(function) to learn more about it."
   ]
  },
  {
   "cell_type": "markdown",
   "metadata": {},
   "source": [
    "**1.List of functions**\n",
    "\n",
    "**print()** \n",
    "\n",
    "**type()** defines the type of information contained\n",
    "\n",
    "**str()** to turn into a string \n",
    "\n",
    "**int()** to turn into a integer\n",
    "\n",
    "**bool()** to turn into a boolean\n",
    "\n",
    "**float()** to turn into a float or number without decimal part\n",
    "\n",
    "**len()** to know the length of a piece of information.\n",
    "\n",
    "**sorted()** order values (False by default)\n",
    "\n"
   ]
  },
  {
   "cell_type": "markdown",
   "metadata": {},
   "source": [
    "**2.Methods**\n",
    "\n",
    "Are `functions that apply depending on the type of objects` (there are methods for lists, methods for integers...)\n",
    "Methods for different types of objects behave different \n",
    "\n",
    "**2.1 String Methods**   "
   ]
  },
  {
   "cell_type": "code",
   "execution_count": 9,
   "metadata": {},
   "outputs": [
    {
     "name": "stdout",
     "output_type": "stream",
     "text": [
      "mazda zoom\n",
      "MAZDA ZOOM\n",
      "2\n"
     ]
    }
   ],
   "source": [
    "# Create list cars\n",
    "car = \"mazda zoom\"\n",
    "\n",
    "#string.method() no need to put anything inside the parenthesis then print\n",
    "print(car)\n",
    "car_mayusculas = car.upper()\n",
    "\n",
    "print(car_mayusculas)\n",
    "print(car.count(\"o\"))"
   ]
  },
  {
   "cell_type": "markdown",
   "metadata": {},
   "source": [
    "**2.2 List Methods**  write the name of the list, then ., then the method\n",
    "\n",
    "**index()**, to get the index of the first element of a list that matches its input\n",
    "\n",
    "**count()**, to get the number of times an element appears in a list\n",
    "\n",
    "**append()**, that adds an element to the list it is called on\n",
    "\n",
    "**remove()**, that removes the first element of a list that matches the input\n",
    "\n",
    "**reverse()**, that reverses the order of the elements in the list it is called on\n",
    "\n",
    "**pop()**, mostrar el último elemento y eliminarlo de la lista.\n"
   ]
  },
  {
   "cell_type": "code",
   "execution_count": 22,
   "metadata": {},
   "outputs": [
    {
     "name": "stdout",
     "output_type": "stream",
     "text": [
      "[71.43, 78.0, 40.0, 20.75, 10.5, 14.6, 47.8]\n",
      "[47.8, 14.6, 10.5, 20.75, 40.0, 78.0, 71.43]\n",
      "[47.8, 14.6, 10.5, 20.75, 40.0, 78.0]\n"
     ]
    }
   ],
   "source": [
    "# Create list cars\n",
    "cars = [71.43, 78.0, 40.0, 20.75, 10.5]\n",
    "\n",
    "# Use append twice to add seat panda and renault clio\n",
    "cars.append(14.6)\n",
    "cars.append(47.8)\n",
    "\n",
    "\n",
    "# Print out cars\n",
    "print(cars)\n",
    "\n",
    "# Reverse the orders of the elements in cars\n",
    "cars.reverse()\n",
    "\n",
    "# Print out cars\n",
    "print(cars)\n",
    "\n",
    "#Eliminate last element\n",
    "cars.pop()\n",
    "print(cars)"
   ]
  },
  {
   "cell_type": "code",
   "execution_count": null,
   "metadata": {},
   "outputs": [],
   "source": [
    "# Defining a list \n",
    "x= [1,2,3,4,5,6,7,8,9]"
   ]
  },
  {
   "cell_type": "markdown",
   "metadata": {},
   "source": [
    "**-> list.append(element)**\n",
    "\n",
    "**-> list.extend(element)** Inserts letter of the new element separatelly, it has to be an iterable item (not floats or int)\n",
    "\n",
    "**-> list.remove(element)**\n",
    "\n",
    "**-> list.insert(index, element)**\n",
    "\n",
    "**-> list.pop()** will choose last element"
   ]
  },
  {
   "cell_type": "code",
   "execution_count": 12,
   "metadata": {},
   "outputs": [
    {
     "name": "stdout",
     "output_type": "stream",
     "text": [
      "[1, 2, 3, 5, 12, 2, 5, 5, 23, 3, 'cualquier cosa']\n",
      "[1, 2, 3, 5, 12, 2, 5, 5, 23, 3, 'cualquier cosa', 'n', 'a', 'd', 'a', ' ', 'm', 'á', 's']\n",
      "[1, 2, 3, 5, 12, 2, 5, 5, 23, 3, 'cualquier cosa', 'n', 'a', 'd', 'a', ' ', 'm', 'á', 's', 1, 2, 3]\n",
      "[1, 2, 3, 5, 2, 5, 5, 23, 3, 'cualquier cosa', 'n', 'a', 'd', 'a', ' ', 'm', 'á', 's', 1, 2, 3]\n",
      "['Esto Primero', 1, 2, 3, 5, 2, 5, 5, 23, 3, 'cualquier cosa', 'n', 'a', 'd', 'a', ' ', 'm', 'á', 's', 1, 2, 3]\n",
      "['Esto Primero', 1, 2, 3, 5, 2, 5, 5, 23, 3, 'cualquier cosa', 'n', 'a', 'd', 'a', ' ', 'm', 'á', 's', 1, 2]\n",
      "['Esto Primero', 1, 2, 3, 5, 2, 5, 5, 23, 3, 'cualquier cosa', 'n', 'a', 'd', 'a', ' ', 'm', 'á', 's', 1]\n"
     ]
    }
   ],
   "source": [
    "x = [1,2,3,5,12,2,5,5,23,3]\n",
    "x.append(\"cualquier cosa\")\n",
    "print(x)\n",
    "\n",
    "x.extend(\"nada más\")\n",
    "print(x)\n",
    "\n",
    "x.extend([1,2,3])\n",
    "print(x)\n",
    "\n",
    "x.remove(12)\n",
    "print(x)\n",
    "\n",
    "x.insert(0, \"Esto Primero\")\n",
    "print(x)\n",
    "\n",
    "x.pop()\n",
    "print(x)\n",
    "\n",
    "x.pop()\n",
    "print(x)"
   ]
  },
  {
   "cell_type": "code",
   "execution_count": 11,
   "metadata": {},
   "outputs": [
    {
     "name": "stdout",
     "output_type": "stream",
     "text": [
      "7\n",
      "6\n",
      "6\n",
      "5\n",
      "3\n",
      "3\n",
      "12\n"
     ]
    }
   ],
   "source": [
    "l = [12,3,3,5,6,6,7]\n",
    "while l:\n",
    "    print(l.pop())"
   ]
  },
  {
   "cell_type": "markdown",
   "metadata": {},
   "source": [
    "**3.Packages**\n",
    "\n",
    "An example of import:\n",
    "`import numpy as np`, or you can use the format `from numpy import array` and you import only a part.\n",
    "Other packages: `math`\n",
    "\n"
   ]
  },
  {
   "cell_type": "code",
   "execution_count": 11,
   "metadata": {},
   "outputs": [
    {
     "name": "stdout",
     "output_type": "stream",
     "text": [
      "Circumference: 2.701769682087222\n",
      "Area: 0.5808804816487527\n"
     ]
    }
   ],
   "source": [
    "# Definition of radius\n",
    "r = 0.43\n",
    "\n",
    "# Import the math package\n",
    "import math as mt\n",
    "\n",
    "# Calculate C\n",
    "C = 2*mt.pi*r\n",
    "\n",
    "# Calculate A\n",
    "A = mt.pi*(r**2)\n",
    "\n",
    "# Build printout\n",
    "print(\"Circumference: \" + str(C))\n",
    "print(\"Area: \" + str(A))"
   ]
  },
  {
   "cell_type": "markdown",
   "metadata": {},
   "source": [
    "### Numpy\n",
    "\n",
    "It's a powerful package to do data science.\n",
    "Python doesn't know how to do calculations on lists, thats why Numpy is necessary.\n",
    "\n",
    "**1**.Always `define a shortcut` for wasting less time: Import `numpy package as np` (or anyother name)\n",
    "\n",
    "**2**.Use np.array() to `transform the list into an numpy array`. Now you will be allowed to do calculations.\n",
    "\n",
    "**3**.To `subset use [ ]` if you want go deepper in selection, add more [ ] or choose a selection [:,2] in this case will mean _all rows, third column_\n",
    "\n",
    "**4**.All `items in an array should be same type`, or will behave like same type."
   ]
  },
  {
   "cell_type": "code",
   "execution_count": 12,
   "metadata": {},
   "outputs": [
    {
     "data": {
      "text/plain": [
       "array([4, 5, 2])"
      ]
     },
     "execution_count": 12,
     "metadata": {},
     "output_type": "execute_result"
    }
   ],
   "source": [
    "# np.array treats all items as same type item. Here True =1 and False=0\n",
    "import numpy as np\n",
    "np.array([True, 1, 2]) + np.array([3, 4, False])"
   ]
  },
  {
   "cell_type": "markdown",
   "metadata": {},
   "source": [
    "**5**.You can always `reffer to the method \"shape\" to see the dimensions`. "
   ]
  },
  {
   "cell_type": "code",
   "execution_count": 13,
   "metadata": {},
   "outputs": [
    {
     "name": "stdout",
     "output_type": "stream",
     "text": [
      "<class 'numpy.ndarray'>\n",
      "(4, 2)\n"
     ]
    }
   ],
   "source": [
    "# Create baseball, a list of lists\n",
    "baseball = [[180, 78.4],\n",
    "            [215, 102.7],\n",
    "            [210, 98.5],\n",
    "            [188, 75.2]]\n",
    "\n",
    "# Import numpy\n",
    "import numpy as np\n",
    "\n",
    "# Create a 2D numpy array from baseball: np_baseball\n",
    "np_baseball= np.array(baseball)\n",
    "\n",
    "# Print out the type of np_baseball\n",
    "print(type(np_baseball))\n",
    "\n",
    "# Print out the shape of np_baseball -> this means its 4 rows and 2 columns\n",
    "print(np_baseball.shape)"
   ]
  },
  {
   "cell_type": "markdown",
   "metadata": {},
   "source": [
    "**6**.`Apply basic statatistical functions` to see if data looks good"
   ]
  },
  {
   "cell_type": "code",
   "execution_count": 14,
   "metadata": {},
   "outputs": [
    {
     "data": {
      "text/plain": [
       "8.0"
      ]
     },
     "execution_count": 14,
     "metadata": {},
     "output_type": "execute_result"
    }
   ],
   "source": [
    "import numpy as np\n",
    "x = [1, 5, 8, 10, 18]\n",
    "np.median(x)"
   ]
  },
  {
   "cell_type": "code",
   "execution_count": 15,
   "metadata": {},
   "outputs": [
    {
     "data": {
      "text/plain": [
       "8.4"
      ]
     },
     "execution_count": 15,
     "metadata": {},
     "output_type": "execute_result"
    }
   ],
   "source": [
    "np.mean(x)"
   ]
  },
  {
   "cell_type": "code",
   "execution_count": 16,
   "metadata": {
    "scrolled": true
   },
   "outputs": [
    {
     "data": {
      "text/plain": [
       "5.6780278266313555"
      ]
     },
     "execution_count": 16,
     "metadata": {},
     "output_type": "execute_result"
    }
   ],
   "source": [
    "np.std(x)"
   ]
  },
  {
   "cell_type": "markdown",
   "metadata": {},
   "source": [
    "****************************************************************************************************************\n",
    "********************************************************************************************************************************************************************************************************************************\n",
    "****************************************************************************************************************"
   ]
  },
  {
   "cell_type": "markdown",
   "metadata": {},
   "source": [
    "## Intermediate Python for Data Science\n",
    "### Matplotlib\n",
    "\n",
    "Reminder: \n",
    "\n",
    "<div class=\"alert alert-block alert-warning\">\n",
    "**import matplotlib.pyplot as plt\n",
    "/\n",
    "plt.plot(x,y)\n",
    "/\n",
    "plt.show()**\n",
    "</div>"
   ]
  },
  {
   "cell_type": "code",
   "execution_count": 17,
   "metadata": {},
   "outputs": [
    {
     "ename": "NameError",
     "evalue": "name 'year' is not defined",
     "output_type": "error",
     "traceback": [
      "\u001b[0;31m---------------------------------------------------------------------------\u001b[0m",
      "\u001b[0;31mNameError\u001b[0m                                 Traceback (most recent call last)",
      "\u001b[0;32m<ipython-input-17-4f7945ef3e4d>\u001b[0m in \u001b[0;36m<module>\u001b[0;34m()\u001b[0m\n\u001b[1;32m      5\u001b[0m \u001b[0;34m\u001b[0m\u001b[0m\n\u001b[1;32m      6\u001b[0m \u001b[0;31m# Make a line plot: year on the x-axis, pop on the y-axis\u001b[0m\u001b[0;34m\u001b[0m\u001b[0;34m\u001b[0m\u001b[0m\n\u001b[0;32m----> 7\u001b[0;31m \u001b[0mplt\u001b[0m\u001b[0;34m.\u001b[0m\u001b[0mplot\u001b[0m\u001b[0;34m(\u001b[0m\u001b[0myear\u001b[0m\u001b[0;34m,\u001b[0m\u001b[0mpop\u001b[0m\u001b[0;34m)\u001b[0m\u001b[0;34m\u001b[0m\u001b[0m\n\u001b[0m\u001b[1;32m      8\u001b[0m \u001b[0;34m\u001b[0m\u001b[0m\n\u001b[1;32m      9\u001b[0m \u001b[0;31m# Display the plot with plt.show()\u001b[0m\u001b[0;34m\u001b[0m\u001b[0;34m\u001b[0m\u001b[0m\n",
      "\u001b[0;31mNameError\u001b[0m: name 'year' is not defined"
     ]
    }
   ],
   "source": [
    "#**This example won't work because we don't have data available**\n",
    "\n",
    "# Import matplotlib.pyplot as plt\n",
    "import matplotlib.pyplot as plt\n",
    "\n",
    "# Make a line plot: year on the x-axis, pop on the y-axis\n",
    "plt.plot(year,pop)\n",
    "\n",
    "# Display the plot with plt.show()\n",
    "plt.show()"
   ]
  },
  {
   "cell_type": "markdown",
   "metadata": {},
   "source": [
    "#### Examples of visualization"
   ]
  },
  {
   "cell_type": "markdown",
   "metadata": {},
   "source": [
    "**-> plt.plot(x,y)**: Two axis and points united with a line\n",
    "\n",
    "**-> plt.scatter(x,y)**: Two axis and points distributed\n",
    "\n",
    "**-> plt.xscale ('log')**: sets the x axis to a logarithmic scale\n",
    "\n",
    "**-> plt.hist**: Explore dataset and get an idea about distribution. Define the horizontal axis data and the bins=10, 10 by default)\n",
    "\n",
    "**-> plt.clf**: cleans a plot."
   ]
  },
  {
   "cell_type": "markdown",
   "metadata": {},
   "source": [
    "#### Axis labels and title"
   ]
  },
  {
   "cell_type": "markdown",
   "metadata": {},
   "source": [
    "**-> plt.xlabel('_name_')** \n",
    "\n",
    "**-> plt.ylabel('_name_')** \n",
    "\n",
    "**-> plt.title('_name_')** "
   ]
  },
  {
   "cell_type": "markdown",
   "metadata": {},
   "source": [
    "#### Adjusting Axis"
   ]
  },
  {
   "cell_type": "markdown",
   "metadata": {},
   "source": [
    "**-> plt.yticks([0,1,2], [\"one\",\"two\",\"three\"])**"
   ]
  },
  {
   "cell_type": "markdown",
   "metadata": {},
   "source": [
    "#### Sizes, colors, oppacity\n",
    "\n",
    "Assign to the scatter method the **s** argument, for size, **c=** for color, **alpha=0.8** for oppacity\n",
    "\n",
    "**-> plt.scatter(x,y,`s=`, `c=`, `alpha=`)**"
   ]
  },
  {
   "cell_type": "markdown",
   "metadata": {},
   "source": [
    "****************************************************************************************************************\n",
    "****************************************************************************************************************"
   ]
  },
  {
   "cell_type": "markdown",
   "metadata": {},
   "source": [
    "### Dictionaries\n",
    "\n",
    "my_dict = {\n",
    "   \"key1\":\"value1\",\n",
    "   \"key2\":\"value2\",\n",
    "}\n",
    "\n",
    "Remember that `keys should be unic and immutable`."
   ]
  },
  {
   "cell_type": "code",
   "execution_count": 28,
   "metadata": {},
   "outputs": [
    {
     "name": "stdout",
     "output_type": "stream",
     "text": [
      "{'spain': 'madrid', 'france': 'paris', 'germany': 'berlin', 'norway': 'oslo'}\n",
      "dict_keys(['spain', 'france', 'germany', 'norway'])\n",
      "dict_values(['madrid', 'paris', 'berlin', 'oslo'])\n",
      "oslo\n"
     ]
    }
   ],
   "source": [
    "# Definition of countries and capital\n",
    "countries = ['spain', 'france', 'germany', 'norway']\n",
    "capitals = ['madrid', 'paris', 'berlin', 'oslo']\n",
    "\n",
    "# From string in countries and capitals, create dictionary europe\n",
    "europe= {\n",
    "    \"spain\":\"madrid\",\n",
    "    \"france\":\"paris\",\n",
    "    \"germany\":\"berlin\",\n",
    "    \"norway\":\"oslo\"\n",
    "}\n",
    "\n",
    "# Print europe\n",
    "print(europe)\n",
    "\n",
    "# Print out the keys in europe\n",
    "print(europe.keys())\n",
    "\n",
    "# Print out the values in europe\n",
    "print(europe.values())\n",
    "\n",
    "# Print out value that belongs to key 'norway'\n",
    "print(europe[\"norway\"])"
   ]
  },
  {
   "cell_type": "markdown",
   "metadata": {},
   "source": [
    "List | Dictionari\n",
    "---|---\n",
    "Select, update and remove [ ]| Select, update and remove [ ]\n",
    "Indexed by a range of numbers | Indexed by unique keys\n",
    "Collection of values, order matters, select entire subsets | Lookup table with unique keys"
   ]
  },
  {
   "cell_type": "markdown",
   "metadata": {},
   "source": [
    "#### Dictionary manipulation\n",
    "\n",
    "To add or modify a value in a dictionary: `name_of_dictionary['key_name'] = 'value_name'`\n",
    "\n",
    "\n",
    "To delete use `del(name_dictionary[key_to_delete])`"
   ]
  },
  {
   "cell_type": "code",
   "execution_count": 26,
   "metadata": {},
   "outputs": [
    {
     "name": "stdout",
     "output_type": "stream",
     "text": [
      "True\n",
      "{'france': {'capital': 'paris', 'population': 66.03}, 'germany': {'capital': 'berlin', 'population': 80.62}, 'norway': {'capital': 'oslo', 'population': 5.084}, 'italy': 'rome', 'poland': 'warsaw'}\n",
      "{'germany': {'capital': 'berlin', 'population': 80.62}, 'norway': {'capital': 'oslo', 'population': 5.084}, 'italy': 'rome', 'poland': 'warsaw'}\n"
     ]
    }
   ],
   "source": [
    "# Add italy to europe\n",
    "europe[\"italy\"]= \"rome\"\n",
    "\n",
    "# Print out italy in europe\n",
    "print(\"italy\" in europe)\n",
    "\n",
    "# Add poland to europe\n",
    "europe[\"poland\"]= \"warsaw\"\n",
    "\n",
    "# Print europe\n",
    "print(europe)\n",
    "\n",
    "# Remove france\n",
    "del(europe[\"france\"])\n",
    "\n",
    "# Print europe after removal\n",
    "print(europe)"
   ]
  },
  {
   "cell_type": "markdown",
   "metadata": {},
   "source": [
    "Dictionaries can contain key:value pairs where the values are again dictionaries. It's perfectly possible to chain square brackets to select elements.\n",
    "    "
   ]
  },
  {
   "cell_type": "code",
   "execution_count": 14,
   "metadata": {},
   "outputs": [
    {
     "name": "stdout",
     "output_type": "stream",
     "text": [
      "paris\n",
      "{'spain': {'capital': 'madrid', 'population': 46.77}, 'france': {'capital': 'paris', 'population': 66.03}, 'germany': {'capital': 'berlin', 'population': 80.62}, 'norway': {'capital': 'oslo', 'population': 5.084}, 'italy': {'capital': 'rome', 'population': 59.83}}\n",
      "{'france': {'capital': 'paris', 'population': 66.03}, 'germany': {'capital': 'berlin', 'population': 80.62}, 'norway': {'capital': 'oslo', 'population': 5.084}, 'italy': {'capital': 'rome', 'population': 59.83}}\n"
     ]
    }
   ],
   "source": [
    "# Dictionary of dictionaries\n",
    "europe = { 'spain': { 'capital':'madrid', 'population':46.77 },\n",
    "           'france': { 'capital':'paris', 'population':66.03 },\n",
    "           'germany': { 'capital':'berlin', 'population':80.62 },\n",
    "           'norway': { 'capital':'oslo', 'population':5.084 } }\n",
    "\n",
    "\n",
    "# Print out the capital of France\n",
    "print(europe['france']['capital'])\n",
    "\n",
    "# Create sub-dictionary data\n",
    "data = { 'capital':'rome', 'population':59.83 }\n",
    "\n",
    "# Add data to europe under key 'italy'\n",
    "europe['italy'] = data\n",
    "\n",
    "# Print europe\n",
    "print(europe)\n",
    "\n",
    "# Delete other option with pop\n",
    "europe.pop(\"spain\")\n",
    "print(europe)"
   ]
  },
  {
   "cell_type": "markdown",
   "metadata": {},
   "source": [
    "**Iterating inside a Dictionary**"
   ]
  },
  {
   "cell_type": "code",
   "execution_count": 15,
   "metadata": {},
   "outputs": [
    {
     "name": "stdout",
     "output_type": "stream",
     "text": [
      "Key france  -> Value {'capital': 'paris', 'population': 66.03}\n",
      "Key germany  -> Value {'capital': 'berlin', 'population': 80.62}\n",
      "Key norway  -> Value {'capital': 'oslo', 'population': 5.084}\n",
      "Key italy  -> Value {'capital': 'rome', 'population': 59.83}\n"
     ]
    }
   ],
   "source": [
    "for element in europe: #Europe is the name of the dictionary\n",
    "    print(\"Key %s  -> Value %s\" % (element, str(europe[element])))"
   ]
  },
  {
   "cell_type": "code",
   "execution_count": 16,
   "metadata": {},
   "outputs": [
    {
     "data": {
      "text/plain": [
       "['france', 'germany', 'norway', 'italy']"
      ]
     },
     "execution_count": 16,
     "metadata": {},
     "output_type": "execute_result"
    }
   ],
   "source": [
    "[element for element in europe] #Europe is the name of the dictionary"
   ]
  },
  {
   "cell_type": "code",
   "execution_count": 17,
   "metadata": {},
   "outputs": [
    {
     "data": {
      "text/plain": [
       "[{'capital': 'paris', 'population': 66.03},\n",
       " {'capital': 'berlin', 'population': 80.62},\n",
       " {'capital': 'oslo', 'population': 5.084},\n",
       " {'capital': 'rome', 'population': 59.83}]"
      ]
     },
     "execution_count": 17,
     "metadata": {},
     "output_type": "execute_result"
    }
   ],
   "source": [
    "[europe[element] for element in europe]"
   ]
  },
  {
   "cell_type": "markdown",
   "metadata": {},
   "source": [
    "****************************************************************************************************************\n",
    "****************************************************************************************************************"
   ]
  },
  {
   "cell_type": "markdown",
   "metadata": {},
   "source": [
    "### Pandas\n",
    "\n",
    "High level data manipulation tool built on Numpy but more complex. **`It's basically a way to store tabular data where you can label the rows and the columns. It helps to organize data as a data_frame`**.\n",
    "\n",
    "A way to do it is **moving from dictionaries to  DataFrames**. Each dictionary key is a column label and each value is a list which contains the column elements.\n"
   ]
  },
  {
   "cell_type": "code",
   "execution_count": null,
   "metadata": {},
   "outputs": [],
   "source": [
    "# Three lists are defined in the script:\n",
    "\n",
    "    # names, containing the country names for which data is available.\n",
    "    # dr, a list with booleans that tells whether people drive left or right in the corresponding country.\n",
    "    #cpc, the number of motor vehicles per 1000 people in the corresponding country.\n",
    "\n",
    "# Pre-defined lists\n",
    "names = ['United States', 'Australia', 'Japan', 'India', 'Russia', 'Morocco', 'Egypt']\n",
    "dr =  [True, False, False, False, True, True, True]\n",
    "cpc = [809, 731, 588, 18, 200, 70, 45]\n",
    "\n",
    "# Import pandas as pd\n",
    "import pandas as pd\n",
    "\n",
    "# Create dictionary my_dict with three key:value pairs: my_dict\n",
    "my_dict= {\n",
    "    \"country\": names ,\n",
    "    \"drives_right\": dr ,\n",
    "    \"cars_per_cap\": cpc,\n",
    "}\n",
    "\n",
    "# Build a DataFrame cars from my_dict: cars\n",
    "cars= pd.DataFrame(my_dict)\n",
    "\n",
    "# Print cars\n",
    "cars\n",
    "    "
   ]
  },
  {
   "cell_type": "code",
   "execution_count": null,
   "metadata": {
    "scrolled": true
   },
   "outputs": [],
   "source": [
    "#To rename the labels of the first column \n",
    "# Definition of row_labels\n",
    "row_labels = ['US', 'AUS', 'JAP', 'IN', 'RU', 'MOR', 'EG']\n",
    "\n",
    "# Specify row labels of cars\n",
    "cars.index = row_labels\n",
    "\n",
    "# Print cars again\n",
    "cars"
   ]
  },
  {
   "cell_type": "markdown",
   "metadata": {},
   "source": [
    "Another way is to **import data from a CSV file**. To import CSV data into Python as a Pandas DataFrame you can use `read_csv()`.\n"
   ]
  },
  {
   "cell_type": "code",
   "execution_count": null,
   "metadata": {},
   "outputs": [],
   "source": [
    "# Import pandas as pd\n",
    "import pandas as pd\n",
    "\n",
    "# Import the cars.csv data: cars_csv\n",
    "cars_csv= pd.read_csv(\"cars.csv\", index_col=0)\n",
    "\n",
    "# Print out cars_csv\n",
    "cars_csv"
   ]
  },
  {
   "cell_type": "markdown",
   "metadata": {},
   "source": [
    "#### Selection \n",
    "\n",
    "A way to select information is using [  ]. The single bracket version gives a Pandas Series, the double bracket version gives a Pandas DataFrame."
   ]
  },
  {
   "cell_type": "code",
   "execution_count": null,
   "metadata": {},
   "outputs": [],
   "source": [
    "cars_csv['cars_per_cap']"
   ]
  },
  {
   "cell_type": "code",
   "execution_count": null,
   "metadata": {},
   "outputs": [],
   "source": [
    "cars_csv[['cars_per_cap','drives_right']]"
   ]
  },
  {
   "cell_type": "markdown",
   "metadata": {},
   "source": [
    "With **`loc`** and **`iloc`** you can do practically any data selection operation on DataFrames you can think of. `loc` is label-based, which means that you have to specify rows and columns based on their row and column labels. `iloc` is integer index based, so you have to specify rows and columns by their integer index"
   ]
  },
  {
   "cell_type": "code",
   "execution_count": null,
   "metadata": {},
   "outputs": [],
   "source": [
    "#Single [ ] will mean a Serie\n",
    "\n",
    "cars_csv.loc['RU']\n",
    "cars_csv.iloc[4]"
   ]
  },
  {
   "cell_type": "code",
   "execution_count": null,
   "metadata": {},
   "outputs": [],
   "source": [
    "# Double [ ] will represent a DataFrame\n",
    "\n",
    "cars_csv.loc[['RU']]\n",
    "cars_csv.iloc[[4]]"
   ]
  },
  {
   "cell_type": "code",
   "execution_count": null,
   "metadata": {},
   "outputs": [],
   "source": [
    "# Let's choose more than one option\n",
    "cars_csv.loc[['RU', 'AUS']]\n",
    "cars_csv.iloc[[4, 1]]"
   ]
  },
  {
   "cell_type": "code",
   "execution_count": null,
   "metadata": {},
   "outputs": [],
   "source": [
    "#Single [ ] will mean a Serie\n",
    "\n",
    "cars_csv.loc['IN', 'cars_per_cap']\n",
    "cars_csv.iloc[3, 0]"
   ]
  },
  {
   "cell_type": "code",
   "execution_count": null,
   "metadata": {},
   "outputs": [],
   "source": [
    "#Single [ ] will mean a Serie\n",
    "\n",
    "cars_csv.loc[['IN', 'RU'], 'cars_per_cap']\n",
    "cars_csv.iloc[[3, 4], 0]"
   ]
  },
  {
   "cell_type": "code",
   "execution_count": null,
   "metadata": {},
   "outputs": [],
   "source": [
    "# Double [ ] will represent a DataFrame\n",
    "\n",
    "cars_csv.loc[['IN', 'RU'], ['cars_per_cap', 'country']]\n",
    "cars_csv.iloc[[3, 4], [0, 1]]"
   ]
  },
  {
   "cell_type": "markdown",
   "metadata": {},
   "source": [
    "****************************************************************************************************************\n",
    "****************************************************************************************************************"
   ]
  },
  {
   "cell_type": "markdown",
   "metadata": {},
   "source": [
    "### Logic, Control Flow and Filtering\n",
    "#### Comparison Operators"
   ]
  },
  {
   "cell_type": "code",
   "execution_count": 50,
   "metadata": {},
   "outputs": [
    {
     "name": "stdout",
     "output_type": "stream",
     "text": [
      "[ True  True False False]\n",
      "[False  True  True False]\n"
     ]
    }
   ],
   "source": [
    "# Create arrays\n",
    "import numpy as np\n",
    "my_house = np.array([18.0, 20.0, 10.75, 9.50])\n",
    "your_house = np.array([14.0, 24.0, 14.25, 9.0])\n",
    "\n",
    "# my_house greater than or equal to 18\n",
    "print(my_house>=18)\n",
    "\n",
    "# my_house less than your_house\n",
    "print(my_house<your_house)"
   ]
  },
  {
   "cell_type": "markdown",
   "metadata": {},
   "source": [
    "**Boolean operators** **and, or, not** operators"
   ]
  },
  {
   "cell_type": "code",
   "execution_count": null,
   "metadata": {},
   "outputs": [],
   "source": [
    "# Define variables\n",
    "my_kitchen = 18.0\n",
    "your_kitchen = 14.0\n",
    "\n",
    "# my_kitchen bigger than 10 and smaller than 18?\n",
    "print(my_kitchen >10 and my_kitchen < 18)\n",
    "\n",
    "# my_kitchen smaller than 14 or bigger than 17?\n",
    "print(my_kitchen <14 or my_kitchen > 17)\n",
    "\n",
    "# Double my_kitchen smaller than triple your_kitchen?\n",
    "print(my_kitchen*2<3*your_kitchen)"
   ]
  },
  {
   "cell_type": "markdown",
   "metadata": {},
   "source": [
    "**Boolean operators with Numpy**\n",
    "\n",
    "To use these operators with Numpy, you will need `np.logical_and()`, `np.logical_or()` and `np.logical_not()`"
   ]
  },
  {
   "cell_type": "code",
   "execution_count": null,
   "metadata": {},
   "outputs": [],
   "source": [
    "np.logical_and(your_house > 13, \n",
    "               your_house < 15)"
   ]
  },
  {
   "cell_type": "code",
   "execution_count": null,
   "metadata": {},
   "outputs": [],
   "source": [
    "# my_house greater than 18.5 or smaller than 10\n",
    "print(np.logical_or(my_house>18.5, my_house<10))\n",
    "\n",
    "# Both my_house and your_house smaller than 11\n",
    "print(np.logical_and(my_house<11, your_house<11))"
   ]
  },
  {
   "cell_type": "markdown",
   "metadata": {},
   "source": [
    "#### il, elif, else\n",
    "\n",
    "```\n",
    "if condition:\n",
    "    expression\n",
    "elif condition:\n",
    "    expression\n",
    "else:\n",
    "    expression\n",
    "```"
   ]
  },
  {
   "cell_type": "code",
   "execution_count": null,
   "metadata": {},
   "outputs": [],
   "source": [
    "#Example\n",
    "\n",
    "area = 10.0\n",
    "if(area < 9) :\n",
    "    print(\"small\")\n",
    "elif(area < 12) :\n",
    "    print(\"medium\")\n",
    "else :\n",
    "    print(\"large\")"
   ]
  },
  {
   "cell_type": "markdown",
   "metadata": {},
   "source": [
    "**Filtering Pandas DataFrame**"
   ]
  },
  {
   "cell_type": "code",
   "execution_count": 51,
   "metadata": {},
   "outputs": [
    {
     "name": "stdout",
     "output_type": "stream",
     "text": [
      "     cars_per_cap        country  drives_right\n",
      "US            809  United States          True\n",
      "RU            200         Russia          True\n",
      "MOR            70        Morocco          True\n",
      "EG             45          Egypt          True\n"
     ]
    }
   ],
   "source": [
    "# Import cars data\n",
    "import pandas as pd\n",
    "cars = pd.read_csv('cars.csv', index_col = 0)\n",
    "\n",
    "# Extract drives_right column as Series: dr\n",
    "dr= cars['drives_right']\n",
    "\n",
    "# Use dr to subset cars: sel\n",
    "sel= cars[dr]\n",
    "\n",
    "# Print sel.\n",
    "print(sel)\n",
    "\n",
    "# We could do the same with only one line\n",
    "sel = cars[cars['drives_right']]\n"
   ]
  },
  {
   "cell_type": "code",
   "execution_count": 52,
   "metadata": {},
   "outputs": [
    {
     "name": "stdout",
     "output_type": "stream",
     "text": [
      "     cars_per_cap        country  drives_right\n",
      "US            809  United States          True\n",
      "AUS           731      Australia         False\n",
      "JAP           588          Japan         False\n"
     ]
    }
   ],
   "source": [
    "# Create car_maniac: observations that have a cars_per_cap over 500\n",
    "cpc = cars['cars_per_cap']\n",
    "many_cars = cpc > 500\n",
    "car_maniac = cars[many_cars]\n",
    "\n",
    "# Print car_maniac\n",
    "print(car_maniac)"
   ]
  },
  {
   "cell_type": "code",
   "execution_count": 53,
   "metadata": {},
   "outputs": [
    {
     "name": "stdout",
     "output_type": "stream",
     "text": [
      "    cars_per_cap country  drives_right\n",
      "RU           200  Russia          True\n"
     ]
    }
   ],
   "source": [
    "# Create medium: observations with cars_per_cap between 100 and 500\n",
    "cpc= cars['cars_per_cap']\n",
    "between= np.logical_and (cpc>100, cpc<500)\n",
    "medium= cars[between]\n",
    "\n",
    "# Print medium\n",
    "print(medium)"
   ]
  },
  {
   "cell_type": "markdown",
   "metadata": {},
   "source": [
    "****************************************************************************************************************\n",
    "****************************************************************************************************************"
   ]
  },
  {
   "cell_type": "markdown",
   "metadata": {},
   "source": [
    "### Loops"
   ]
  },
  {
   "cell_type": "markdown",
   "metadata": {},
   "source": [
    "**While loop**\n",
    "\n",
    "Repeats an action until condition is met\n",
    "\n",
    "```\n",
    "while condition :\n",
    "    expression\n",
    "```"
   ]
  },
  {
   "cell_type": "code",
   "execution_count": 75,
   "metadata": {},
   "outputs": [
    {
     "name": "stdout",
     "output_type": "stream",
     "text": [
      "10\n",
      "12\n",
      "46\n",
      "4\n",
      "5\n"
     ]
    }
   ],
   "source": [
    "# Easy example\n",
    "lista_ejemple = [10,12,46,4,5,6,7,8,9]\n",
    "\n",
    "# Create a while loop with a counter that stops then we get index 5\n",
    "\n",
    "i = 0\n",
    "while i<5:\n",
    "    print(lista_ejemple[i])\n",
    "    i += 1\n",
    "    \"\"\"The loop will stop when we get to the index 5 (not included)\"\"\""
   ]
  },
  {
   "cell_type": "code",
   "execution_count": 71,
   "metadata": {},
   "outputs": [
    {
     "name": "stdout",
     "output_type": "stream",
     "text": [
      "correcting...\n",
      "correcting...\n",
      "correcting...\n",
      "correcting...\n",
      "correcting...\n",
      "correcting...\n"
     ]
    }
   ],
   "source": [
    "# Initialize counter\n",
    "counter = -6\n",
    "\n",
    "# Code the while loop\n",
    "while counter != 0 :\n",
    "    print(\"correcting...\")\n",
    "    if counter>0:\n",
    "        counter=counter-1\n",
    "    else:\n",
    "        counter=counter+1\n"
   ]
  },
  {
   "cell_type": "markdown",
   "metadata": {},
   "source": [
    "**For loop**\n",
    "\n",
    "Repeats an action for every item in the sequence\n",
    "\n",
    "        for var in seq :\n",
    "            expression\n"
   ]
  },
  {
   "cell_type": "code",
   "execution_count": 57,
   "metadata": {},
   "outputs": [
    {
     "name": "stdout",
     "output_type": "stream",
     "text": [
      "12\n",
      "35\n",
      "6\n",
      "6\n",
      "2\n",
      "3\n",
      "3\n",
      "3\n"
     ]
    }
   ],
   "source": [
    "# Easy example\n",
    "x = [12, 35, 6, 6, 2, 3, 3, 3]\n",
    "\n",
    "for xi in x:\n",
    "    print(xi)"
   ]
  },
  {
   "cell_type": "code",
   "execution_count": 55,
   "metadata": {},
   "outputs": [
    {
     "name": "stdout",
     "output_type": "stream",
     "text": [
      "1.73\n",
      "1.68\n",
      "1.71\n",
      "1.89\n"
     ]
    }
   ],
   "source": [
    "# Take this information and print it separated\n",
    "fam = [1.73, 1.68, 1.71, 1.89]\n",
    "for height in fam : \n",
    "    print(height)"
   ]
  },
  {
   "cell_type": "code",
   "execution_count": 58,
   "metadata": {},
   "outputs": [
    {
     "name": "stdout",
     "output_type": "stream",
     "text": [
      "index 0: 1.73\n",
      "index 1: 1.68\n",
      "index 2: 1.71\n",
      "index 3: 1.89\n"
     ]
    }
   ],
   "source": [
    "#This time enumerate them\n",
    "for index, height in enumerate(fam) :\n",
    "    print(\"index \" + str(index) + \": \" + str(height))"
   ]
  },
  {
   "cell_type": "code",
   "execution_count": 59,
   "metadata": {},
   "outputs": [
    {
     "name": "stdout",
     "output_type": "stream",
     "text": [
      "the hallway is 11.25 sqm\n",
      "the kitchen is 18.0 sqm\n",
      "the living room is 20.0 sqm\n",
      "the bedroom is 10.75 sqm\n",
      "the bathroom is 9.5 sqm\n"
     ]
    }
   ],
   "source": [
    "# house list of lists\n",
    "house = [[\"hallway\", 11.25], \n",
    "         [\"kitchen\", 18.0], \n",
    "         [\"living room\", 20.0], \n",
    "         [\"bedroom\", 10.75], \n",
    "         [\"bathroom\", 9.50]]\n",
    "         \n",
    "# Build a for loop from scratch\n",
    "for h in house :\n",
    "    print(\"the \"+ str(h[0])+\" is \"+ str(h[1])+\" sqm\")"
   ]
  },
  {
   "cell_type": "markdown",
   "metadata": {},
   "source": [
    "**Loop over a Dictionary**\n",
    "\n",
    "Use a method `items()`. Remember: dictionaries are inherently unordered!"
   ]
  },
  {
   "cell_type": "code",
   "execution_count": 60,
   "metadata": {
    "scrolled": true
   },
   "outputs": [
    {
     "name": "stdout",
     "output_type": "stream",
     "text": [
      "afghanistan -- 30.55\n",
      "albania -- 2.77\n",
      "algeria -- 39.21\n"
     ]
    }
   ],
   "source": [
    "world = { \"afghanistan\":30.55, \n",
    "          \"albania\":2.77,\n",
    "          \"algeria\":39.21 }\n",
    "\n",
    "for key, value in world.items() :\n",
    "    print(key + \" -- \" + str(value))"
   ]
  },
  {
   "cell_type": "code",
   "execution_count": 61,
   "metadata": {},
   "outputs": [
    {
     "name": "stdout",
     "output_type": "stream",
     "text": [
      "the capital of spain is madrid\n",
      "the capital of france is paris\n",
      "the capital of germany is berlin\n",
      "the capital of norway is oslo\n",
      "the capital of italy is rome\n",
      "the capital of poland is warsaw\n",
      "the capital of austria is vienna\n"
     ]
    }
   ],
   "source": [
    "# Definition of dictionary\n",
    "europe = {'spain':'madrid', 'france':'paris', 'germany':'berlin',\n",
    "          'norway':'oslo', 'italy':'rome', 'poland':'warsaw', 'austria':'vienna' }\n",
    "# Iterate over europe\n",
    "for key, value in europe.items():\n",
    "    print (\"the capital of \" + key + \" is \" + value)"
   ]
  },
  {
   "cell_type": "markdown",
   "metadata": {},
   "source": [
    "**Loop over a Numpy array**\n",
    "\n",
    "Use a function for 2D Numpy arrays `np.nditer(my_array)`"
   ]
  },
  {
   "cell_type": "markdown",
   "metadata": {},
   "source": [
    "If you're `dealing with a 1D Numpy array`, looping over all elements can be as simple as:\n",
    "\n",
    "        for x in my_array :\n",
    "            ...\n"
   ]
  },
  {
   "cell_type": "markdown",
   "metadata": {},
   "source": [
    "If you're `dealing with a 2D Numpy array`, it's more complicated. A 2D array is built up of multiple 1D arrays. To explicitly iterate over all separate elements of a multi-dimensional array, you'll need this syntax:\n",
    "\n",
    "        for x in np.nditer(my_array) :\n",
    "    ..."
   ]
  },
  {
   "cell_type": "code",
   "execution_count": null,
   "metadata": {
    "scrolled": true
   },
   "outputs": [],
   "source": [
    "# Create baseball, a list of lists\n",
    "baseball = [[180, 78.4],\n",
    "            [215, 102.7],\n",
    "            [210, 98.5],\n",
    "            [188, 75.2]]\n",
    "# For loop over np_baseball\n",
    "for x in np.nditer(np_baseball) :\n",
    "    print(x)"
   ]
  },
  {
   "cell_type": "markdown",
   "metadata": {},
   "source": [
    "**Loop over a Panda DataFrame**\n",
    "\n",
    "Iterating over a Pandas DataFrame is typically done with the `iterrows()` method. Used in a for loop, every observation is iterated over and on every iteration the row label and actual row contents are available:\n",
    "\n",
    "    for label_row, row_data, in my_panda.iterrows():\n",
    "        expression\n",
    "\n"
   ]
  },
  {
   "cell_type": "code",
   "execution_count": null,
   "metadata": {},
   "outputs": [],
   "source": [
    "# Import cars data\n",
    "import pandas as pd\n",
    "cars = pd.read_csv('cars.csv', index_col = 0)\n",
    "\n",
    "# Iterate over rows of cars\n",
    "for label, row_data in cars.iterrows():\n",
    "    print(label)\n",
    "    print (row_data)"
   ]
  },
  {
   "cell_type": "code",
   "execution_count": null,
   "metadata": {},
   "outputs": [],
   "source": [
    "# Adapt for loop so we can read the label and the cars por capita (US: 809)\n",
    "for lab, row in cars.iterrows() :\n",
    "    print(lab + \" :\" + str(row['cars_per_cap']))"
   ]
  },
  {
   "cell_type": "markdown",
   "metadata": {},
   "source": [
    "**Add a colummn with add**"
   ]
  },
  {
   "cell_type": "code",
   "execution_count": 62,
   "metadata": {},
   "outputs": [
    {
     "name": "stdout",
     "output_type": "stream",
     "text": [
      "     cars_per_cap        country  drives_right        COUNTRY\n",
      "US            809  United States          True  UNITED STATES\n",
      "AUS           731      Australia         False      AUSTRALIA\n",
      "JAP           588          Japan         False          JAPAN\n",
      "IN             18          India         False          INDIA\n",
      "RU            200         Russia          True         RUSSIA\n",
      "MOR            70        Morocco          True        MOROCCO\n",
      "EG             45          Egypt          True          EGYPT\n"
     ]
    }
   ],
   "source": [
    "# Code for loop that adds COUNTRY column using a loop, very ineficient.\n",
    "for lab, row in cars.iterrows() :\n",
    "    cars.loc[lab, \"COUNTRY\"] = row[\"country\"].upper()\n",
    "    \n",
    "# Print cars\n",
    "print(cars)"
   ]
  },
  {
   "cell_type": "markdown",
   "metadata": {},
   "source": [
    "If you want to add a column to a DataFrame by calling a function on another column, the iterrows() method in combination with a for loop is not the preferred way to go. Instead, you'll want to `use apply()`."
   ]
  },
  {
   "cell_type": "code",
   "execution_count": null,
   "metadata": {},
   "outputs": [],
   "source": [
    "# Use .apply(str.upper) because is a method we need a different approach.\n",
    "\n",
    "for lab, row in cars.iterrows() :\n",
    "    cars[\"COUNTRY\"] = cars[\"country\"].apply(str.upper)\n",
    "print(cars)"
   ]
  },
  {
   "cell_type": "markdown",
   "metadata": {},
   "source": [
    "***************************************************************************************************************"
   ]
  },
  {
   "cell_type": "markdown",
   "metadata": {},
   "source": [
    "### More Loop examples"
   ]
  },
  {
   "cell_type": "code",
   "execution_count": 63,
   "metadata": {},
   "outputs": [
    {
     "name": "stdout",
     "output_type": "stream",
     "text": [
      "12\n",
      "6\n",
      "6\n",
      "2\n"
     ]
    }
   ],
   "source": [
    "x = [12,35,6,6,2,3,3,3]\n",
    "\n",
    "for e in x:\n",
    "    \"\"\"print only if it's an even number (par)\"\"\"\n",
    "    if(e%2 == 0):\n",
    "        print(e)"
   ]
  },
  {
   "cell_type": "code",
   "execution_count": 64,
   "metadata": {},
   "outputs": [
    {
     "name": "stdout",
     "output_type": "stream",
     "text": [
      "12\n",
      "35\n",
      "6\n",
      "6\n",
      "2\n"
     ]
    }
   ],
   "source": [
    "for e in x:\n",
    "    \"\"\"finishes the loop when it encounters a 3\"\"\"\n",
    "    if(e == 3):\n",
    "        break\n",
    "        \n",
    "    print(e)"
   ]
  },
  {
   "cell_type": "code",
   "execution_count": 65,
   "metadata": {},
   "outputs": [
    {
     "name": "stdout",
     "output_type": "stream",
     "text": [
      "12\n",
      "35\n",
      "2\n",
      "3\n",
      "3\n",
      "3\n"
     ]
    }
   ],
   "source": [
    "for e in x:\n",
    "    \"\"\"jump number 6 and continue the loop\"\"\"\n",
    "    if(e == 6):\n",
    "        continue\n",
    "        \n",
    "    print(e)"
   ]
  },
  {
   "cell_type": "markdown",
   "metadata": {},
   "source": [
    "****************************************************************************************************************"
   ]
  },
  {
   "cell_type": "markdown",
   "metadata": {},
   "source": [
    "### Random Numbers\n",
    "\n",
    "All the functionality you need is contained in the `random package`, a sub-package of `numpy`. \n",
    "\n",
    "`seed()`: sets the random seed, so that your results are the reproducible between simulations. As an argument, it takes an integer of your choosing. If you call the function, no output will be generated.\n",
    "\n",
    "`rand()`: if you don't specify any arguments, it generates a random float between zero and one.\n"
   ]
  },
  {
   "cell_type": "code",
   "execution_count": null,
   "metadata": {},
   "outputs": [],
   "source": [
    "# Import numpy as np\n",
    "import numpy as np\n",
    "\n",
    "# Set the seed\n",
    "np.random.seed(123)\n",
    "\n",
    "# Generate and print random float\n",
    "print(np.random.rand())"
   ]
  },
  {
   "cell_type": "code",
   "execution_count": null,
   "metadata": {},
   "outputs": [],
   "source": [
    "# Use randint() with the appropriate arguments to randomly generate the integer 1, 2, 3, 4, 5 or 6. This simulates a dice. Print it out.\n",
    "print(np.random.randint(1,7))\n",
    "print(np.random.randint(1,7))"
   ]
  },
  {
   "cell_type": "code",
   "execution_count": null,
   "metadata": {},
   "outputs": [],
   "source": []
  }
 ],
 "metadata": {
  "kernelspec": {
   "display_name": "Python 3",
   "language": "python",
   "name": "python3"
  },
  "language_info": {
   "codemirror_mode": {
    "name": "ipython",
    "version": 3
   },
   "file_extension": ".py",
   "mimetype": "text/x-python",
   "name": "python",
   "nbconvert_exporter": "python",
   "pygments_lexer": "ipython3",
   "version": "3.6.4"
  }
 },
 "nbformat": 4,
 "nbformat_minor": 2
}
